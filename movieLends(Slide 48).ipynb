{
  "cells": [
    {
      "cell_type": "markdown",
      "metadata": {
        "id": "n8W6NHiJnHYh"
      },
      "source": [
        "## Ony Novianti\n",
        "#### 2041720029 (TI-3A)\n"
      ]
    },
    {
      "cell_type": "code",
      "execution_count": null,
      "metadata": {
        "id": "mdOS7iu6e59K"
      },
      "outputs": [],
      "source": [
        "# Sumber : https://github.com/cloudxlab/bigdata/blob/master/spark/examples/mllib/ml-recommender.scala"
      ]
    },
    {
      "cell_type": "code",
      "execution_count": null,
      "metadata": {
        "colab": {
          "base_uri": "https://localhost:8080/"
        },
        "id": "M7MRSD5MJQYa",
        "outputId": "52eaae3f-6bd4-4bd3-f951-3355abba6209"
      },
      "outputs": [
        {
          "output_type": "stream",
          "name": "stdout",
          "text": [
            "Mounted at /content/drive\n"
          ]
        }
      ],
      "source": [
        "# Connect Google Drive Untuk Ambil Data\n",
        "from google.colab import drive\n",
        "drive.mount('/content/drive')"
      ]
    },
    {
      "cell_type": "code",
      "execution_count": null,
      "metadata": {
        "colab": {
          "base_uri": "https://localhost:8080/"
        },
        "id": "k0cbLXaSLc-R",
        "outputId": "2b130449-bca6-4c1b-bc6d-db4fee3cbc87"
      },
      "outputs": [
        {
          "output_type": "stream",
          "name": "stdout",
          "text": [
            "Looking in indexes: https://pypi.org/simple, https://us-python.pkg.dev/colab-wheels/public/simple/\n",
            "Collecting pyspark\n",
            "  Downloading pyspark-3.4.0.tar.gz (310.8 MB)\n",
            "\u001b[2K     \u001b[90m━━━━━━━━━━━━━━━━━━━━━━━━━━━━━━━━━━━━━━━\u001b[0m \u001b[32m310.8/310.8 MB\u001b[0m \u001b[31m3.4 MB/s\u001b[0m eta \u001b[36m0:00:00\u001b[0m\n",
            "\u001b[?25h  Preparing metadata (setup.py) ... \u001b[?25l\u001b[?25hdone\n",
            "Requirement already satisfied: py4j==0.10.9.7 in /usr/local/lib/python3.10/dist-packages (from pyspark) (0.10.9.7)\n",
            "Building wheels for collected packages: pyspark\n",
            "  Building wheel for pyspark (setup.py) ... \u001b[?25l\u001b[?25hdone\n",
            "  Created wheel for pyspark: filename=pyspark-3.4.0-py2.py3-none-any.whl size=311317130 sha256=1273896f0f6f5fdbff43ca5a3d6ad0f26387baeaaf2f33dfe2db0c73c0db1786\n",
            "  Stored in directory: /root/.cache/pip/wheels/7b/1b/4b/3363a1d04368e7ff0d408e57ff57966fcdf00583774e761327\n",
            "Successfully built pyspark\n",
            "Installing collected packages: pyspark\n",
            "Successfully installed pyspark-3.4.0\n"
          ]
        }
      ],
      "source": [
        "# Install PySpark\n",
        "!pip install pyspark"
      ]
    },
    {
      "cell_type": "code",
      "execution_count": null,
      "metadata": {
        "id": "6_6RDtF9KUNa"
      },
      "outputs": [],
      "source": [
        "# Import Library\n",
        "from pyspark.sql import SparkSession\n",
        "from pyspark.ml.recommendation import ALS\n",
        "from pyspark.sql.functions import col\n",
        "\n",
        "spark = SparkSession.builder.appName(\"Movie Lens\").getOrCreate()\n",
        "sc = spark.sparkContext"
      ]
    },
    {
      "cell_type": "code",
      "execution_count": null,
      "metadata": {
        "id": "6k-AXtqJPcFg"
      },
      "outputs": [],
      "source": [
        "raw = sc.textFile(\"/content/drive/MyDrive/TI-3A/ml-1m/ratings.dat\")\n",
        "mydata = [(2, 1), (3, 3), (4, 2)]\n",
        "mydatardd = sc.parallelize(mydata).map(lambda x: Rating(0, x[0], x[1]))"
      ]
    },
    {
      "cell_type": "code",
      "execution_count": null,
      "metadata": {
        "id": "0OBm4Xi_t8sV"
      },
      "outputs": [],
      "source": [
        "class Rating:\n",
        "    def __init__(self, userId, movieId, rating):\n",
        "        self.userId = userId\n",
        "        self.movieId = movieId\n",
        "        self.rating = rating\n",
        "\n",
        "# Parse String Menjadi Objek Rating\n",
        "def parseRating(str):\n",
        "    fields = str.split(\"::\")\n",
        "    assert len(fields) == 4\n",
        "    return Rating(int(fields[0]), int(fields[1]), float(fields[2]))\n",
        "\n"
      ]
    },
    {
      "cell_type": "code",
      "execution_count": null,
      "metadata": {
        "id": "xZgY8ZhWPis5"
      },
      "outputs": [],
      "source": [
        "ratings = raw.map(parseRating)\n",
        "ratings_df = ratings.toDF([\"userId\", \"movieId\", \"rating\"])\n",
        "\n",
        "# Convert the additional data to a DataFrame\n",
        "mydata_df = mydatardd.toDF([\"userId\", \"rating\"])\n",
        "\n",
        "# Combine the ratings and additional data\n",
        "totalratings_df = ratings_df.union(mydata_df)\n",
        "\n",
        "# Build the recommendation model using ALS\n",
        "als = ALS(userCol=\"userId\", itemCol=\"movieId\", ratingCol=\"rating\", coldStartStrategy=\"drop\")\n",
        "model = als.fit(totalratings_df)\n",
        "\n",
        "# Generate product recommendations for user ID 1\n",
        "products = model.recommendForUserSubset(spark.createDataFrame([(1,)]).toDF(\"userId\"), 10)\n",
        "# Load data from movies, join it, and display the names ordered by ratings"
      ]
    },
    {
      "cell_type": "code",
      "source": [
        "products.show()\n"
      ],
      "metadata": {
        "colab": {
          "base_uri": "https://localhost:8080/"
        },
        "id": "cOgGmIKyq4jh",
        "outputId": "4df7fe83-c3da-40c2-d7b8-0c1d427b3c9e"
      },
      "execution_count": null,
      "outputs": [
        {
          "output_type": "stream",
          "name": "stdout",
          "text": [
            "+------+--------------------+\n",
            "|userId|     recommendations|\n",
            "+------+--------------------+\n",
            "|     1|[{1, 3740.3484}, ...|\n",
            "+------+--------------------+\n",
            "\n"
          ]
        }
      ]
    },
    {
      "cell_type": "code",
      "execution_count": null,
      "metadata": {
        "id": "mPzM4XvPN2Gt"
      },
      "outputs": [],
      "source": []
    }
  ],
  "metadata": {
    "colab": {
      "provenance": []
    },
    "kernelspec": {
      "display_name": "Python 3",
      "name": "python3"
    },
    "language_info": {
      "name": "python"
    }
  },
  "nbformat": 4,
  "nbformat_minor": 0
}